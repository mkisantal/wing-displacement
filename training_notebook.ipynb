{
 "cells": [
  {
   "cell_type": "code",
   "execution_count": null,
   "metadata": {},
   "outputs": [],
   "source": [
    "# selecting GPU\n",
    "%env CUDA_DEVICE_ORDER=PCI_BUS_ID\n",
    "%env CUDA_VISIBLE_DEVICES=0\n",
    "%matplotlib notebook"
   ]
  },
  {
   "cell_type": "code",
   "execution_count": null,
   "metadata": {},
   "outputs": [],
   "source": [
    "from utils import WingDataset\n",
    "\n",
    "import os\n",
    "import time\n",
    "import json\n",
    "\n",
    "import torch\n",
    "from torch import nn\n",
    "from torchvision import models, transforms"
   ]
  },
  {
   "cell_type": "code",
   "execution_count": null,
   "metadata": {},
   "outputs": [],
   "source": [
    "# basic setup stuff\n",
    "device = torch.device(\"cuda:0\" if torch.cuda.is_available() else \"cpu\")\n",
    "run_name = 'test_runs01/001_first_training'\n",
    "if not os.path.exists(run_name):\n",
    "    os.makedirs(run_name)\n",
    "\n",
    "model_name = 'resnet18'\n",
    "batch_size = 64\n",
    "epochs = 1\n",
    "\n",
    "# training loss\n",
    "criterion = torch.nn.MSELoss().to(device)\n",
    "\n",
    "# model, replacing last fully connected layer\n",
    "model = models.resnet18(pretrained=True)\n",
    "num_ftrs = model.fc.in_features\n",
    "model.fc = nn.Linear(num_ftrs, 1)\n",
    "model.to(device)\n",
    "\n",
    "# optimizer\n",
    "optimizer = torch.optim.Adam(model.parameters(), lr=1e-4)\n",
    "\n"
   ]
  },
  {
   "cell_type": "code",
   "execution_count": null,
   "metadata": {},
   "outputs": [],
   "source": [
    "# DATASETS, DATALOADERS\n",
    "\n",
    "# transforms: converting to pytorch tensor and normalization\n",
    "# later dataset autgmentation transforms can be added here, but be careful to consider label preservation\n",
    "img_tr = transforms.Compose([transforms.ToTensor(),\n",
    "                             transforms.Normalize([0.485, 0.456, 0.406],\n",
    "                                                  [0.229, 0.224, 0.225])])\n",
    "\n",
    "# training and validation sets, by default 3 runs are used for test (see WingDataset), rest is training\n",
    "train_ds = WingDataset(test=False, transforms=img_tr)\n",
    "val_ds = WingDataset(test=True, transforms=img_tr)\n",
    "\n",
    "sets = {'train', 'val'}\n",
    "dsets = {'train': train_ds, 'val': val_ds}\n",
    "\n",
    "dataloaders = {x: torch.utils.data.DataLoader(dsets[x], batch_size=batch_size, shuffle=True,\n",
    "                                              num_workers=8, drop_last=True)\n",
    "               for x in sets}\n",
    "dataset_sizes = {x: len(dsets[x]) for x in sets}"
   ]
  },
  {
   "cell_type": "code",
   "execution_count": null,
   "metadata": {},
   "outputs": [],
   "source": [
    "def train_model(model, criterion, num_epochs, dataloaders, device, optimizer, start_epoch=0):\n",
    "    since = time.time()\n",
    "    history = {'train_loss': [],\n",
    "               'val_loss': [],\n",
    "               'mean_err': []}\n",
    "    if start_epoch != 0:\n",
    "        with open(os.path.join(run_name, 'history.json'), 'r') as fin:\n",
    "            history = json.load(fin)\n",
    "    \n",
    "    \n",
    "    for eph in range(start_epoch, start_epoch+num_epochs):\n",
    "        \n",
    "        for phase in ['train', 'val']:\n",
    "            if phase == 'train':\n",
    "                model.train()  # Set model to training mode\n",
    "            else:\n",
    "                model.eval()   # Set model to evaluate mode\n",
    "                \n",
    "            running_loss = 0.0\n",
    "            errors = []\n",
    "            \n",
    "            for inputs, labels in dataloaders[phase]:\n",
    "                inputs = inputs.to(device)\n",
    "                labels = labels.to(device).float()\n",
    "                optimizer.zero_grad()\n",
    "                with torch.set_grad_enabled(phase == 'train'):\n",
    "                    outputs = model(inputs)\n",
    "                    loss = criterion(outputs, labels)\n",
    "                    \n",
    "                    if phase == 'train':\n",
    "                        loss.backward()\n",
    "                        optimizer.step()\n",
    "                    else:\n",
    "                        pass\n",
    "                running_loss += loss.item() * inputs.size(0)\n",
    "                    \n",
    "                \n",
    "            epoch_loss = float(running_loss / dataset_sizes[phase]) \n",
    "            if phase == 'train':\n",
    "                history['train_loss'].append(epoch_loss)\n",
    "                print(epoch_loss)\n",
    "            else:\n",
    "                history['val_loss'].append(epoch_loss)\n",
    "                print('\\t\\t{}'.format(epoch_loss))\n",
    "            \n",
    "            if eph % 1 == 0:\n",
    "                save_path = os.path.join(run_name, 'model_latest.pth')\n",
    "                torch.save(model, save_path)\n",
    "                \n",
    "            with open(os.path.join(run_name, 'history.json'), 'w') as fout:\n",
    "                json.dump(history, fout)\n",
    "                \n",
    "    time_elapsed = time.time() - since\n",
    "    print('Training complete in {:.0f}m {:.0f}s'.format(\n",
    "        time_elapsed // 60, time_elapsed % 60))\n",
    "    return history, model"
   ]
  },
  {
   "cell_type": "code",
   "execution_count": null,
   "metadata": {
    "scrolled": true
   },
   "outputs": [],
   "source": [
    "h, model = train_model(model, criterion, epochs, dataloaders, device, optimizer)"
   ]
  },
  {
   "cell_type": "code",
   "execution_count": null,
   "metadata": {},
   "outputs": [],
   "source": [
    "from matplotlib import pyplot as plt\n",
    "plt.plot(h['train_loss'], 'k')\n",
    "plt.plot(h['val_loss'], 'r')"
   ]
  },
  {
   "cell_type": "code",
   "execution_count": null,
   "metadata": {},
   "outputs": [],
   "source": [
    "# for inputs, labels in dataloaders['train']:\n",
    "#     break"
   ]
  }
 ],
 "metadata": {
  "kernelspec": {
   "display_name": "wing",
   "language": "python",
   "name": "wing"
  },
  "language_info": {
   "codemirror_mode": {
    "name": "ipython",
    "version": 3
   },
   "file_extension": ".py",
   "mimetype": "text/x-python",
   "name": "python",
   "nbconvert_exporter": "python",
   "pygments_lexer": "ipython3",
   "version": "3.7.2"
  }
 },
 "nbformat": 4,
 "nbformat_minor": 2
}
